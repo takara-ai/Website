{
 "cells": [
  {
   "cell_type": "code",
   "execution_count": null,
   "metadata": {},
   "outputs": [],
   "source": [
    "pip install datasets\n"
   ]
  },
  {
   "cell_type": "markdown",
   "metadata": {},
   "source": [
    "Verify Dataset"
   ]
  },
  {
   "cell_type": "code",
   "execution_count": null,
   "metadata": {},
   "outputs": [],
   "source": [
    "from datasets import load_dataset\n",
    "\n",
    "# Load the Parquet dataset using the specific branch for Parquet files\n",
    "dataset = load_dataset(\"takara-ai/sangyo_no_yume_industrial_dreams\", split=\"train\", streaming=True)\n",
    "\n",
    "# Load a single example to inspect the structure\n",
    "example = next(iter(dataset))\n",
    "\n",
    "# Print the structure of the dataset\n",
    "print(example)\n",
    "\n",
    "# Print the available columns\n",
    "print(\"Columns:\", example.keys())\n"
   ]
  },
  {
   "cell_type": "markdown",
   "metadata": {},
   "source": [
    "- read gallery_config.yaml\n",
    "- clear existing images\n",
    "- contact datasets\n",
    "- put images in gallery\n",
    "- record URL's and prompts in gallery_images.yaml"
   ]
  },
  {
   "cell_type": "code",
   "execution_count": null,
   "metadata": {},
   "outputs": [],
   "source": [
    "import yaml\n",
    "from datasets import load_dataset\n",
    "import os\n",
    "import random\n",
    "import shutil\n",
    "\n",
    "def get_base_dir():\n",
    "    try:\n",
    "        return os.path.dirname(os.path.abspath(__file__))\n",
    "    except NameError:\n",
    "        return os.getcwd()\n",
    "\n",
    "def clear_directory(directory):\n",
    "    for filename in os.listdir(directory):\n",
    "        file_path = os.path.join(directory, filename)\n",
    "        try:\n",
    "            if os.path.isfile(file_path) or os.path.islink(file_path):\n",
    "                os.unlink(file_path)\n",
    "            elif os.path.isdir(file_path):\n",
    "                shutil.rmtree(file_path)\n",
    "        except Exception as e:\n",
    "            print(f'Failed to delete {file_path}. Reason: {e}')\n",
    "\n",
    "base_dir = get_base_dir()\n",
    "gallery_dir = os.path.abspath(os.path.join(base_dir, '..', 'env', 'assets', 'images', 'gallery'))\n",
    "\n",
    "config_path = os.path.join(base_dir, 'gallery_config.yaml')\n",
    "with open(config_path, 'r') as file:\n",
    "    config = yaml.safe_load(file)\n",
    "\n",
    "gallery_images = []\n",
    "\n",
    "for dataset_config in config['datasets']:\n",
    "    dataset_name = dataset_config['name']\n",
    "    num_images = dataset_config['num_images']\n",
    "\n",
    "    output_dir = os.path.join(gallery_dir, dataset_name)\n",
    "    \n",
    "    # Clear existing images in the output directory\n",
    "    if os.path.exists(output_dir):\n",
    "        clear_directory(output_dir)\n",
    "    else:\n",
    "        os.makedirs(output_dir)\n",
    "\n",
    "    dataset = load_dataset(dataset_name, revision=\"refs/convert/parquet\", split=\"train\", streaming=True)\n",
    "    \n",
    "    buffer_size = min(num_images * 10, 1000)\n",
    "    buffer = []\n",
    "    \n",
    "    for example in dataset:\n",
    "        if len(buffer) < buffer_size:\n",
    "            buffer.append(example)\n",
    "        else:\n",
    "            if random.random() < buffer_size / (buffer_size + 1):\n",
    "                replace_index = random.randint(0, buffer_size - 1)\n",
    "                buffer[replace_index] = example\n",
    "        \n",
    "        if len(buffer) >= buffer_size:\n",
    "            break\n",
    "    \n",
    "    selected_images = random.sample(buffer, min(num_images, len(buffer)))\n",
    "    \n",
    "    for example in selected_images:\n",
    "        image_filename = f\"{example['seed']}.png\"\n",
    "        image_path = os.path.join(output_dir, image_filename)\n",
    "        example['image'].save(image_path)\n",
    "        \n",
    "        gallery_images.append({\n",
    "            'image_url': f'/assets/images/gallery/{dataset_name}/{image_filename}',\n",
    "            'positive_prompt': example['positive_prompt'],\n",
    "        })\n",
    "\n",
    "output_file = os.path.join(base_dir, 'gallery_images.yaml')\n",
    "with open(output_file, 'w') as file:\n",
    "    yaml.dump({'images': gallery_images}, file)\n",
    "\n",
    "print(f\"Generated {output_file} with randomly selected images from the streaming datasets.\")\n"
   ]
  }
 ],
 "metadata": {
  "kernelspec": {
   "display_name": "Python 3",
   "language": "python",
   "name": "python3"
  },
  "language_info": {
   "codemirror_mode": {
    "name": "ipython",
    "version": 3
   },
   "file_extension": ".py",
   "mimetype": "text/x-python",
   "name": "python",
   "nbconvert_exporter": "python",
   "pygments_lexer": "ipython3",
   "version": "3.9.19"
  }
 },
 "nbformat": 4,
 "nbformat_minor": 2
}
