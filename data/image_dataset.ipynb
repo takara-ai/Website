{
 "cells": [
  {
   "cell_type": "code",
   "execution_count": null,
   "metadata": {},
   "outputs": [],
   "source": [
    "pip install datasets joblib\n"
   ]
  },
  {
   "cell_type": "markdown",
   "metadata": {},
   "source": [
    "Verify Dataset"
   ]
  },
  {
   "cell_type": "code",
   "execution_count": null,
   "metadata": {},
   "outputs": [],
   "source": [
    "from datasets import load_dataset\n",
    "\n",
    "# Load the Parquet dataset using the specific branch for Parquet files\n",
    "dataset = load_dataset(\"takara-ai/sangyo_no_yume_industrial_dreams\", split=\"train\", streaming=True)\n",
    "\n",
    "# Load a single example to inspect the structure\n",
    "example = next(iter(dataset))\n",
    "\n",
    "# Print the structure of the dataset\n",
    "print(example)\n",
    "\n",
    "# Print the available columns\n",
    "print(\"Columns:\", example.keys())\n"
   ]
  },
  {
   "cell_type": "markdown",
   "metadata": {},
   "source": [
    "- read gallery_config.yaml\n",
    "- clear existing images\n",
    "- contact datasets\n",
    "- put images in gallery\n",
    "- record URL's and prompts in gallery_images.yaml"
   ]
  },
  {
   "cell_type": "markdown",
   "metadata": {},
   "source": [
    "# IMAGE DATASET RETRIEVER"
   ]
  },
  {
   "cell_type": "code",
   "execution_count": null,
   "metadata": {},
   "outputs": [],
   "source": [
    "import yaml\n",
    "import os\n",
    "import logging\n",
    "from multiprocessing import Pool, cpu_count\n",
    "from functools import partial\n",
    "from dataset_processor import process_dataset, clear_directory\n",
    "\n",
    "# Set up logging\n",
    "logging.basicConfig(level=logging.INFO, format='%(asctime)s - %(levelname)s - %(message)s')\n",
    "\n",
    "def get_base_dir():\n",
    "    try:\n",
    "        return os.path.dirname(os.path.abspath(__file__))\n",
    "    except NameError:\n",
    "        return os.getcwd()\n",
    "\n",
    "def main():\n",
    "    logging.info(\"Script started\")\n",
    "\n",
    "    base_dir = get_base_dir()\n",
    "    logging.info(f\"Base directory: {base_dir}\")\n",
    "\n",
    "    gallery_dir = os.path.abspath(os.path.join(base_dir, '..', 'env', 'assets', 'images', 'gallery'))\n",
    "    logging.info(f\"Gallery directory: {gallery_dir}\")\n",
    "\n",
    "    config_path = os.path.join(base_dir, 'gallery_config.yaml')\n",
    "    logging.info(f\"Loading config from: {config_path}\")\n",
    "    with open(config_path, 'r') as file:\n",
    "        config = yaml.safe_load(file)\n",
    "\n",
    "    # Use multiprocessing to process datasets in parallel\n",
    "    num_processes = min(cpu_count(), len(config['datasets']))\n",
    "    logging.info(f\"Using {num_processes} processes for parallel processing\")\n",
    "\n",
    "    with Pool(num_processes) as pool:\n",
    "        process_func = partial(process_dataset, gallery_dir=gallery_dir, base_dir=base_dir)\n",
    "        results = pool.map(process_func, config['datasets'])\n",
    "\n",
    "    # Flatten the list of gallery images\n",
    "    gallery_images = [image for sublist in results for image in sublist]\n",
    "\n",
    "    output_file = os.path.join(base_dir, 'gallery_images.yaml')\n",
    "    logging.info(f\"Saving gallery images to: {output_file}\")\n",
    "    with open(output_file, 'w') as file:\n",
    "        yaml.dump({'images': gallery_images}, file)\n",
    "\n",
    "    logging.info(f\"Generated {output_file} with {len(gallery_images)} randomly selected images from the streaming datasets.\")\n",
    "    logging.info(\"Script completed\")\n",
    "\n",
    "if __name__ == \"__main__\":\n",
    "    main()\n"
   ]
  }
 ],
 "metadata": {
  "kernelspec": {
   "display_name": "Python 3",
   "language": "python",
   "name": "python3"
  },
  "language_info": {
   "codemirror_mode": {
    "name": "ipython",
    "version": 3
   },
   "file_extension": ".py",
   "mimetype": "text/x-python",
   "name": "python",
   "nbconvert_exporter": "python",
   "pygments_lexer": "ipython3",
   "version": "3.9.19"
  }
 },
 "nbformat": 4,
 "nbformat_minor": 2
}
